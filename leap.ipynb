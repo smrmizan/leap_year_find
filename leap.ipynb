{
 "cells": [
  {
   "cell_type": "code",
   "execution_count": 5,
   "metadata": {},
   "outputs": [
    {
     "name": "stdout",
     "output_type": "stream",
     "text": [
      "[]\n"
     ]
    }
   ],
   "source": [
    "def leap_year_count(given_year):\n",
    "    count = 0\n",
    "    leap_years = []\n",
    "    while (count<15):\n",
    "        if (given_year%4==0 and given_year%100!=0)or given_year%400==0:\n",
    "            leap_years.append(given_year)\n",
    "        count+=1\n",
    "        given_year+=1\n",
    "        return leap_years\n",
    "leap_years=leap_year_count(2015)\n",
    "print(leap_years)\n",
    "    \n",
    "        \n",
    "    "
   ]
  },
  {
   "cell_type": "code",
   "execution_count": 7,
   "metadata": {},
   "outputs": [
    {
     "data": {
      "text/plain": [
       "[]"
      ]
     },
     "execution_count": 7,
     "metadata": {},
     "output_type": "execute_result"
    }
   ],
   "source": [
    "leap_year_count(2015)"
   ]
  },
  {
   "cell_type": "code",
   "execution_count": 2,
   "metadata": {},
   "outputs": [
    {
     "name": "stdout",
     "output_type": "stream",
     "text": [
      "[2016, 2020, 2024, 2028, 2032, 2036, 2040, 2044, 2048, 2052, 2056, 2060, 2064, 2068, 2072]\n"
     ]
    }
   ],
   "source": [
    "def find_leap_years(given_year):\n",
    "    jsn=0\n",
    "    list_of_leap_years=[]\n",
    "        \n",
    "    while(jsn<15):\n",
    "        if(given_year%4==0 and given_year%100!=0) or given_year%400==0:\n",
    "            list_of_leap_years.append(given_year)\n",
    "            jsn=jsn+1\n",
    "        given_year=given_year+1\n",
    "    return list_of_leap_years\n",
    "\n",
    "list_of_leap_years=find_leap_years(2015)\n",
    "print(list_of_leap_years)"
   ]
  },
  {
   "cell_type": "code",
   "execution_count": null,
   "metadata": {},
   "outputs": [],
   "source": []
  }
 ],
 "metadata": {
  "kernelspec": {
   "display_name": "Python 3",
   "language": "python",
   "name": "python3"
  },
  "language_info": {
   "codemirror_mode": {
    "name": "ipython",
    "version": 3
   },
   "file_extension": ".py",
   "mimetype": "text/x-python",
   "name": "python",
   "nbconvert_exporter": "python",
   "pygments_lexer": "ipython3",
   "version": "3.8.3"
  }
 },
 "nbformat": 4,
 "nbformat_minor": 4
}
